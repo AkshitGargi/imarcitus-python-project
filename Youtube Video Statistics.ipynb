{
 "cells": [
  {
   "cell_type": "code",
   "execution_count": 38,
   "metadata": {},
   "outputs": [],
   "source": [
    "import pandas as pd\n",
    "import numpy as np\n",
    "import seaborn as sns\n",
    "import matplotlib as plt"
   ]
  },
  {
   "cell_type": "code",
   "execution_count": 1,
   "metadata": {},
   "outputs": [
    {
     "name": "stdout",
     "output_type": "stream",
     "text": [
      "C:\\Users\\Akshit Gargi\\Downloads\n"
     ]
    }
   ],
   "source": [
    "cd Downloads"
   ]
  },
  {
   "cell_type": "code",
   "execution_count": 2,
   "metadata": {},
   "outputs": [
    {
     "ename": "NameError",
     "evalue": "name 'pd' is not defined",
     "output_type": "error",
     "traceback": [
      "\u001b[1;31m---------------------------------------------------------------------------\u001b[0m",
      "\u001b[1;31mNameError\u001b[0m                                 Traceback (most recent call last)",
      "\u001b[1;32m<ipython-input-2-cd75a77447fc>\u001b[0m in \u001b[0;36m<module>\u001b[1;34m\u001b[0m\n\u001b[1;32m----> 1\u001b[1;33m \u001b[0mdf\u001b[0m \u001b[1;33m=\u001b[0m \u001b[0mpd\u001b[0m\u001b[1;33m.\u001b[0m\u001b[0mread_csv\u001b[0m\u001b[1;33m(\u001b[0m\u001b[1;34m'train.csv'\u001b[0m\u001b[1;33m)\u001b[0m\u001b[1;33m\u001b[0m\u001b[1;33m\u001b[0m\u001b[0m\n\u001b[0m",
      "\u001b[1;31mNameError\u001b[0m: name 'pd' is not defined"
     ]
    }
   ],
   "source": [
    "df = pd.read_csv('train.csv')"
   ]
  },
  {
   "cell_type": "code",
   "execution_count": 3,
   "metadata": {},
   "outputs": [
    {
     "ename": "NameError",
     "evalue": "name 'df' is not defined",
     "output_type": "error",
     "traceback": [
      "\u001b[1;31m---------------------------------------------------------------------------\u001b[0m",
      "\u001b[1;31mNameError\u001b[0m                                 Traceback (most recent call last)",
      "\u001b[1;32m<ipython-input-3-39de6da29611>\u001b[0m in \u001b[0;36m<module>\u001b[1;34m\u001b[0m\n\u001b[1;32m----> 1\u001b[1;33m \u001b[0mdf\u001b[0m\u001b[1;33m.\u001b[0m\u001b[0misna\u001b[0m\u001b[1;33m(\u001b[0m\u001b[1;33m)\u001b[0m\u001b[1;33m.\u001b[0m\u001b[0msum\u001b[0m\u001b[1;33m(\u001b[0m\u001b[1;33m)\u001b[0m\u001b[1;33m\u001b[0m\u001b[1;33m\u001b[0m\u001b[0m\n\u001b[0m",
      "\u001b[1;31mNameError\u001b[0m: name 'df' is not defined"
     ]
    }
   ],
   "source": [
    "df.isna().sum()"
   ]
  },
  {
   "cell_type": "code",
   "execution_count": 9,
   "metadata": {},
   "outputs": [],
   "source": [
    "del df['Unnamed: 17']"
   ]
  },
  {
   "cell_type": "code",
   "execution_count": 10,
   "metadata": {},
   "outputs": [],
   "source": [
    "del df['Unnamed: 18']"
   ]
  },
  {
   "cell_type": "code",
   "execution_count": 11,
   "metadata": {},
   "outputs": [
    {
     "data": {
      "text/plain": [
       "Video_id                   0\n",
       "category_id                6\n",
       "channel_title              3\n",
       "subscriber                23\n",
       "title                      3\n",
       "tags                     152\n",
       "description               65\n",
       "Trend_day_count            1\n",
       "Tag_count                  1\n",
       "Trend_tag_count            1\n",
       "comment_count              0\n",
       "comment_disabled           0\n",
       "like dislike disabled      0\n",
       "likes                      0\n",
       "dislike                    0\n",
       "tag appered in title       1\n",
       "views                      0\n",
       "dtype: int64"
      ]
     },
     "execution_count": 11,
     "metadata": {},
     "output_type": "execute_result"
    }
   ],
   "source": [
    "df.isnull().sum()"
   ]
  },
  {
   "cell_type": "code",
   "execution_count": 12,
   "metadata": {},
   "outputs": [
    {
     "data": {
      "text/html": [
       "<div>\n",
       "<style scoped>\n",
       "    .dataframe tbody tr th:only-of-type {\n",
       "        vertical-align: middle;\n",
       "    }\n",
       "\n",
       "    .dataframe tbody tr th {\n",
       "        vertical-align: top;\n",
       "    }\n",
       "\n",
       "    .dataframe thead th {\n",
       "        text-align: right;\n",
       "    }\n",
       "</style>\n",
       "<table border=\"1\" class=\"dataframe\">\n",
       "  <thead>\n",
       "    <tr style=\"text-align: right;\">\n",
       "      <th></th>\n",
       "      <th>Video_id</th>\n",
       "      <th>category_id</th>\n",
       "      <th>channel_title</th>\n",
       "      <th>subscriber</th>\n",
       "      <th>title</th>\n",
       "      <th>tags</th>\n",
       "      <th>description</th>\n",
       "      <th>Trend_day_count</th>\n",
       "      <th>Tag_count</th>\n",
       "      <th>Trend_tag_count</th>\n",
       "      <th>comment_count</th>\n",
       "      <th>comment_disabled</th>\n",
       "      <th>like dislike disabled</th>\n",
       "      <th>likes</th>\n",
       "      <th>dislike</th>\n",
       "      <th>tag appered in title</th>\n",
       "      <th>views</th>\n",
       "    </tr>\n",
       "  </thead>\n",
       "  <tbody>\n",
       "    <tr>\n",
       "      <th>0</th>\n",
       "      <td>HDR9SQc79</td>\n",
       "      <td>22</td>\n",
       "      <td>CaseyNeistat</td>\n",
       "      <td>9086142.0</td>\n",
       "      <td>WE WANT TO TALK ABOUT OUR MARRIAGE</td>\n",
       "      <td>SHANtell martin</td>\n",
       "      <td>SHANTELL'S CHANNEL - https://www.youtube.com/s...</td>\n",
       "      <td>6.0</td>\n",
       "      <td>21</td>\n",
       "      <td>6</td>\n",
       "      <td></td>\n",
       "      <td>FALSE</td>\n",
       "      <td>FALSE</td>\n",
       "      <td>13342</td>\n",
       "      <td>6089</td>\n",
       "      <td>False</td>\n",
       "      <td>1978978</td>\n",
       "    </tr>\n",
       "    <tr>\n",
       "      <th>1</th>\n",
       "      <td>KNH52UF?48</td>\n",
       "      <td>24</td>\n",
       "      <td>LastWeekTonight</td>\n",
       "      <td>5937292.0</td>\n",
       "      <td>The Trump Presidency: Last Week Tonight with J...</td>\n",
       "      <td>last week tonight trump presidency|last week t...</td>\n",
       "      <td>One year after the presidential election, John...</td>\n",
       "      <td>1.0</td>\n",
       "      <td>23</td>\n",
       "      <td>1</td>\n",
       "      <td>116266</td>\n",
       "      <td>TRUE</td>\n",
       "      <td>FALSE</td>\n",
       "      <td>5761</td>\n",
       "      <td>3044</td>\n",
       "      <td>False</td>\n",
       "      <td>1487870</td>\n",
       "    </tr>\n",
       "    <tr>\n",
       "      <th>2</th>\n",
       "      <td>QTW28IRG36</td>\n",
       "      <td>23</td>\n",
       "      <td>Rudy Mancuso</td>\n",
       "      <td>4191209.0</td>\n",
       "      <td>Racist Superman | Rudy Mancuso, King Bach &amp; Le...</td>\n",
       "      <td>racist superman|rudy|mancuso|king|bach|racist|...</td>\n",
       "      <td>WATCH MY PREVIOUS VIDEO ▶ \\n\\nSUBSCRIBE ► http...</td>\n",
       "      <td>10.0</td>\n",
       "      <td>22</td>\n",
       "      <td>3</td>\n",
       "      <td>257850</td>\n",
       "      <td>TRUE</td>\n",
       "      <td>TRUE</td>\n",
       "      <td>0</td>\n",
       "      <td>0</td>\n",
       "      <td>True</td>\n",
       "      <td>1502102</td>\n",
       "    </tr>\n",
       "    <tr>\n",
       "      <th>3</th>\n",
       "      <td>MGL76WI]26</td>\n",
       "      <td>24</td>\n",
       "      <td>Good Mythical Morning</td>\n",
       "      <td>13186408.0</td>\n",
       "      <td>Nickelback Lyrics: Real or Fake?</td>\n",
       "      <td>rhett and link|gmm|good mythical morning|rhett...</td>\n",
       "      <td>Today we find out if Link is a Nickelback amat...</td>\n",
       "      <td>12.0</td>\n",
       "      <td>17</td>\n",
       "      <td>5</td>\n",
       "      <td>263939</td>\n",
       "      <td>TRUE</td>\n",
       "      <td>TRUE</td>\n",
       "      <td>0</td>\n",
       "      <td>0</td>\n",
       "      <td>True</td>\n",
       "      <td>3519302</td>\n",
       "    </tr>\n",
       "    <tr>\n",
       "      <th>4</th>\n",
       "      <td>TWP93KXT70</td>\n",
       "      <td>24</td>\n",
       "      <td>nigahiga</td>\n",
       "      <td>20563106.0</td>\n",
       "      <td>I Dare You: GOING BALD!?</td>\n",
       "      <td>ryan|higa|higatv|nigahiga|i dare you|idy|rhpc|...</td>\n",
       "      <td>I know it's been a while since we did this sho...</td>\n",
       "      <td>11.0</td>\n",
       "      <td>15</td>\n",
       "      <td>7</td>\n",
       "      <td>268085</td>\n",
       "      <td>TRUE</td>\n",
       "      <td>TRUE</td>\n",
       "      <td>0</td>\n",
       "      <td>0</td>\n",
       "      <td>True</td>\n",
       "      <td>4835374</td>\n",
       "    </tr>\n",
       "    <tr>\n",
       "      <th>...</th>\n",
       "      <td>...</td>\n",
       "      <td>...</td>\n",
       "      <td>...</td>\n",
       "      <td>...</td>\n",
       "      <td>...</td>\n",
       "      <td>...</td>\n",
       "      <td>...</td>\n",
       "      <td>...</td>\n",
       "      <td>...</td>\n",
       "      <td>...</td>\n",
       "      <td>...</td>\n",
       "      <td>...</td>\n",
       "      <td>...</td>\n",
       "      <td>...</td>\n",
       "      <td>...</td>\n",
       "      <td>...</td>\n",
       "      <td>...</td>\n",
       "    </tr>\n",
       "    <tr>\n",
       "      <th>3191</th>\n",
       "      <td>ISJ87JHs2</td>\n",
       "      <td>22</td>\n",
       "      <td>Grace Helbig</td>\n",
       "      <td>3008137.0</td>\n",
       "      <td>My Bachelor Audition Tape // Grace Helbig</td>\n",
       "      <td>grace|grace helbig|graceinabox|youtube grace h...</td>\n",
       "      <td>My official audition tape for the next season ...</td>\n",
       "      <td>6.0</td>\n",
       "      <td>21</td>\n",
       "      <td>6</td>\n",
       "      <td></td>\n",
       "      <td>FALSE</td>\n",
       "      <td>FALSE</td>\n",
       "      <td>10254</td>\n",
       "      <td>8834</td>\n",
       "      <td>False</td>\n",
       "      <td>702498</td>\n",
       "    </tr>\n",
       "    <tr>\n",
       "      <th>3193</th>\n",
       "      <td>OKR48DOE67</td>\n",
       "      <td>20</td>\n",
       "      <td>EA SPORTS FIFA</td>\n",
       "      <td>3150213.0</td>\n",
       "      <td>FIFA 18 - FUT Champions Cup Barcelona - Day 1</td>\n",
       "      <td>fifa|fifa ultimate team|fut|fifa pack opening|...</td>\n",
       "      <td>Day 1 of the FUT Champions Cup Barcelona featu...</td>\n",
       "      <td>7.0</td>\n",
       "      <td>20</td>\n",
       "      <td>5</td>\n",
       "      <td></td>\n",
       "      <td>FALSE</td>\n",
       "      <td>FALSE</td>\n",
       "      <td>9734</td>\n",
       "      <td>5912</td>\n",
       "      <td>False</td>\n",
       "      <td>747960</td>\n",
       "    </tr>\n",
       "    <tr>\n",
       "      <th>3194</th>\n",
       "      <td>QJK69DS?91</td>\n",
       "      <td>10</td>\n",
       "      <td>JackWhiteVEVO</td>\n",
       "      <td>261596.0</td>\n",
       "      <td>Jack White - Corporation (Audio)</td>\n",
       "      <td>Alternative|Corporation|Jack White|Third Man R...</td>\n",
       "      <td>“Corporation” by Jack White from the forthcomi...</td>\n",
       "      <td>7.0</td>\n",
       "      <td>8</td>\n",
       "      <td>6</td>\n",
       "      <td></td>\n",
       "      <td>FALSE</td>\n",
       "      <td>FALSE</td>\n",
       "      <td>16006</td>\n",
       "      <td>12019</td>\n",
       "      <td>True</td>\n",
       "      <td>200410</td>\n",
       "    </tr>\n",
       "    <tr>\n",
       "      <th>3195</th>\n",
       "      <td>VHF51NVr11</td>\n",
       "      <td>10</td>\n",
       "      <td>JamesBlakeVEVO</td>\n",
       "      <td>28321.0</td>\n",
       "      <td>James Blake - If The Car Beside You Moves Ahea...</td>\n",
       "      <td>James|Blake|If|The|Car|Beside|You|Moves|Ahead|...</td>\n",
       "      <td>If the car beside you moves ahead \\nAs much as...</td>\n",
       "      <td>11.0</td>\n",
       "      <td>15</td>\n",
       "      <td>4</td>\n",
       "      <td></td>\n",
       "      <td>FALSE</td>\n",
       "      <td>TRUE</td>\n",
       "      <td>0</td>\n",
       "      <td>0</td>\n",
       "      <td>True</td>\n",
       "      <td>244022</td>\n",
       "    </tr>\n",
       "    <tr>\n",
       "      <th>3196</th>\n",
       "      <td>XHU22OAJ39</td>\n",
       "      <td>26</td>\n",
       "      <td>Refinery29</td>\n",
       "      <td>890739.0</td>\n",
       "      <td>Lucie Fink Trains Like A Professional Gymnast ...</td>\n",
       "      <td>refinery29|refinery 29|r29|r29 video|refinery2...</td>\n",
       "      <td>On this episode of Lucie For Hire, our host Lu...</td>\n",
       "      <td>11.0</td>\n",
       "      <td>14</td>\n",
       "      <td>6</td>\n",
       "      <td>250750</td>\n",
       "      <td>TRUE</td>\n",
       "      <td>FALSE</td>\n",
       "      <td>6859</td>\n",
       "      <td>1247</td>\n",
       "      <td>True</td>\n",
       "      <td>907340</td>\n",
       "    </tr>\n",
       "  </tbody>\n",
       "</table>\n",
       "<p>2980 rows × 17 columns</p>\n",
       "</div>"
      ],
      "text/plain": [
       "        Video_id category_id          channel_title  subscriber  \\\n",
       "0      HDR9SQc79          22           CaseyNeistat   9086142.0   \n",
       "1     KNH52UF?48          24        LastWeekTonight   5937292.0   \n",
       "2     QTW28IRG36          23           Rudy Mancuso   4191209.0   \n",
       "3     MGL76WI]26          24  Good Mythical Morning  13186408.0   \n",
       "4     TWP93KXT70          24               nigahiga  20563106.0   \n",
       "...          ...         ...                    ...         ...   \n",
       "3191   ISJ87JHs2          22           Grace Helbig   3008137.0   \n",
       "3193  OKR48DOE67          20         EA SPORTS FIFA   3150213.0   \n",
       "3194  QJK69DS?91          10          JackWhiteVEVO    261596.0   \n",
       "3195  VHF51NVr11          10         JamesBlakeVEVO     28321.0   \n",
       "3196  XHU22OAJ39          26             Refinery29    890739.0   \n",
       "\n",
       "                                                  title  \\\n",
       "0                    WE WANT TO TALK ABOUT OUR MARRIAGE   \n",
       "1     The Trump Presidency: Last Week Tonight with J...   \n",
       "2     Racist Superman | Rudy Mancuso, King Bach & Le...   \n",
       "3                      Nickelback Lyrics: Real or Fake?   \n",
       "4                              I Dare You: GOING BALD!?   \n",
       "...                                                 ...   \n",
       "3191          My Bachelor Audition Tape // Grace Helbig   \n",
       "3193      FIFA 18 - FUT Champions Cup Barcelona - Day 1   \n",
       "3194                   Jack White - Corporation (Audio)   \n",
       "3195  James Blake - If The Car Beside You Moves Ahea...   \n",
       "3196  Lucie Fink Trains Like A Professional Gymnast ...   \n",
       "\n",
       "                                                   tags  \\\n",
       "0                                       SHANtell martin   \n",
       "1     last week tonight trump presidency|last week t...   \n",
       "2     racist superman|rudy|mancuso|king|bach|racist|...   \n",
       "3     rhett and link|gmm|good mythical morning|rhett...   \n",
       "4     ryan|higa|higatv|nigahiga|i dare you|idy|rhpc|...   \n",
       "...                                                 ...   \n",
       "3191  grace|grace helbig|graceinabox|youtube grace h...   \n",
       "3193  fifa|fifa ultimate team|fut|fifa pack opening|...   \n",
       "3194  Alternative|Corporation|Jack White|Third Man R...   \n",
       "3195  James|Blake|If|The|Car|Beside|You|Moves|Ahead|...   \n",
       "3196  refinery29|refinery 29|r29|r29 video|refinery2...   \n",
       "\n",
       "                                            description  Trend_day_count  \\\n",
       "0     SHANTELL'S CHANNEL - https://www.youtube.com/s...              6.0   \n",
       "1     One year after the presidential election, John...              1.0   \n",
       "2     WATCH MY PREVIOUS VIDEO ▶ \\n\\nSUBSCRIBE ► http...             10.0   \n",
       "3     Today we find out if Link is a Nickelback amat...             12.0   \n",
       "4     I know it's been a while since we did this sho...             11.0   \n",
       "...                                                 ...              ...   \n",
       "3191  My official audition tape for the next season ...              6.0   \n",
       "3193  Day 1 of the FUT Champions Cup Barcelona featu...              7.0   \n",
       "3194  “Corporation” by Jack White from the forthcomi...              7.0   \n",
       "3195  If the car beside you moves ahead \\nAs much as...             11.0   \n",
       "3196  On this episode of Lucie For Hire, our host Lu...             11.0   \n",
       "\n",
       "     Tag_count Trend_tag_count comment_count comment_disabled  \\\n",
       "0           21               6                          FALSE   \n",
       "1           23               1        116266             TRUE   \n",
       "2           22               3        257850             TRUE   \n",
       "3           17               5        263939             TRUE   \n",
       "4           15               7        268085             TRUE   \n",
       "...        ...             ...           ...              ...   \n",
       "3191        21               6                          FALSE   \n",
       "3193        20               5                          FALSE   \n",
       "3194         8               6                          FALSE   \n",
       "3195        15               4                          FALSE   \n",
       "3196        14               6        250750             TRUE   \n",
       "\n",
       "     like dislike disabled  likes dislike tag appered in title    views  \n",
       "0                    FALSE  13342    6089                False  1978978  \n",
       "1                    FALSE   5761    3044                False  1487870  \n",
       "2                     TRUE      0       0                 True  1502102  \n",
       "3                     TRUE      0       0                 True  3519302  \n",
       "4                     TRUE      0       0                 True  4835374  \n",
       "...                    ...    ...     ...                  ...      ...  \n",
       "3191                 FALSE  10254    8834                False   702498  \n",
       "3193                 FALSE   9734    5912                False   747960  \n",
       "3194                 FALSE  16006   12019                 True   200410  \n",
       "3195                  TRUE      0       0                 True   244022  \n",
       "3196                 FALSE   6859    1247                 True   907340  \n",
       "\n",
       "[2980 rows x 17 columns]"
      ]
     },
     "execution_count": 12,
     "metadata": {},
     "output_type": "execute_result"
    }
   ],
   "source": [
    "df.dropna(axis=0)"
   ]
  },
  {
   "cell_type": "code",
   "execution_count": 14,
   "metadata": {},
   "outputs": [
    {
     "data": {
      "text/plain": [
       "0"
      ]
     },
     "execution_count": 14,
     "metadata": {},
     "output_type": "execute_result"
    }
   ],
   "source": [
    "df.views.iloc[2421]"
   ]
  },
  {
   "cell_type": "code",
   "execution_count": 17,
   "metadata": {},
   "outputs": [],
   "source": [
    "df.views = df.views.astype('str')"
   ]
  },
  {
   "cell_type": "code",
   "execution_count": 18,
   "metadata": {},
   "outputs": [
    {
     "data": {
      "text/plain": [
       "'0'"
      ]
     },
     "execution_count": 18,
     "metadata": {},
     "output_type": "execute_result"
    }
   ],
   "source": [
    "df.views.iloc[2421]"
   ]
  },
  {
   "cell_type": "code",
   "execution_count": 19,
   "metadata": {},
   "outputs": [],
   "source": [
    "df.views= df.views.replace('0',np.nan)"
   ]
  },
  {
   "cell_type": "code",
   "execution_count": 20,
   "metadata": {},
   "outputs": [
    {
     "data": {
      "text/plain": [
       "nan"
      ]
     },
     "execution_count": 20,
     "metadata": {},
     "output_type": "execute_result"
    }
   ],
   "source": [
    "df.views.iloc[2421]"
   ]
  },
  {
   "cell_type": "code",
   "execution_count": 67,
   "metadata": {},
   "outputs": [],
   "source": [
    "df['views'].dropna(axis = 0,inplace = True)"
   ]
  },
  {
   "cell_type": "code",
   "execution_count": 68,
   "metadata": {},
   "outputs": [
    {
     "data": {
      "text/plain": [
       "(2980, 17)"
      ]
     },
     "execution_count": 68,
     "metadata": {},
     "output_type": "execute_result"
    }
   ],
   "source": [
    "df.shape"
   ]
  },
  {
   "cell_type": "code",
   "execution_count": 69,
   "metadata": {},
   "outputs": [],
   "source": [
    "df = df.dropna(axis=0)"
   ]
  },
  {
   "cell_type": "code",
   "execution_count": 70,
   "metadata": {},
   "outputs": [
    {
     "data": {
      "text/plain": [
       "(2980, 17)"
      ]
     },
     "execution_count": 70,
     "metadata": {},
     "output_type": "execute_result"
    }
   ],
   "source": [
    "df.shape"
   ]
  },
  {
   "cell_type": "code",
   "execution_count": 1,
   "metadata": {},
   "outputs": [
    {
     "ename": "NameError",
     "evalue": "name 'df' is not defined",
     "output_type": "error",
     "traceback": [
      "\u001b[1;31m---------------------------------------------------------------------------\u001b[0m",
      "\u001b[1;31mNameError\u001b[0m                                 Traceback (most recent call last)",
      "\u001b[1;32m<ipython-input-1-3c922b38d5aa>\u001b[0m in \u001b[0;36m<module>\u001b[1;34m\u001b[0m\n\u001b[1;32m----> 1\u001b[1;33m \u001b[0mdf\u001b[0m\u001b[1;33m.\u001b[0m\u001b[0mviews\u001b[0m \u001b[1;33m=\u001b[0m \u001b[0mdf\u001b[0m\u001b[1;33m.\u001b[0m\u001b[0mviews\u001b[0m\u001b[1;33m.\u001b[0m\u001b[0mdropna\u001b[0m\u001b[1;33m(\u001b[0m\u001b[1;33m)\u001b[0m\u001b[1;33m\u001b[0m\u001b[1;33m\u001b[0m\u001b[0m\n\u001b[0m",
      "\u001b[1;31mNameError\u001b[0m: name 'df' is not defined"
     ]
    }
   ],
   "source": [
    "df.views = df.views.dropna()"
   ]
  },
  {
   "cell_type": "code",
   "execution_count": 62,
   "metadata": {},
   "outputs": [
    {
     "data": {
      "text/plain": [
       "1208962"
      ]
     },
     "execution_count": 62,
     "metadata": {},
     "output_type": "execute_result"
    }
   ],
   "source": [
    "df.views.iloc[2423]"
   ]
  },
  {
   "cell_type": "code",
   "execution_count": 30,
   "metadata": {},
   "outputs": [],
   "source": [
    "df.views = df.views.astype('int64')"
   ]
  },
  {
   "cell_type": "code",
   "execution_count": 31,
   "metadata": {},
   "outputs": [
    {
     "name": "stdout",
     "output_type": "stream",
     "text": [
      "<class 'pandas.core.frame.DataFrame'>\n",
      "Int64Index: 2980 entries, 0 to 3196\n",
      "Data columns (total 17 columns):\n",
      " #   Column                 Non-Null Count  Dtype  \n",
      "---  ------                 --------------  -----  \n",
      " 0   Video_id               2980 non-null   object \n",
      " 1   category_id            2980 non-null   object \n",
      " 2   channel_title          2980 non-null   object \n",
      " 3   subscriber             2980 non-null   float64\n",
      " 4   title                  2980 non-null   object \n",
      " 5   tags                   2980 non-null   object \n",
      " 6   description            2980 non-null   object \n",
      " 7   Trend_day_count        2980 non-null   float64\n",
      " 8   Tag_count              2980 non-null   object \n",
      " 9   Trend_tag_count        2980 non-null   object \n",
      " 10  comment_count          2980 non-null   object \n",
      " 11  comment_disabled       2980 non-null   object \n",
      " 12  like dislike disabled  2980 non-null   object \n",
      " 13  likes                  2980 non-null   object \n",
      " 14  dislike                2980 non-null   object \n",
      " 15  tag appered in title   2980 non-null   object \n",
      " 16  views                  2980 non-null   int64  \n",
      "dtypes: float64(2), int64(1), object(14)\n",
      "memory usage: 419.1+ KB\n"
     ]
    }
   ],
   "source": [
    "df.info()"
   ]
  },
  {
   "cell_type": "code",
   "execution_count": 32,
   "metadata": {},
   "outputs": [],
   "source": [
    "df.comment_count= df.comment_count.astype('str')"
   ]
  },
  {
   "cell_type": "code",
   "execution_count": 33,
   "metadata": {},
   "outputs": [],
   "source": [
    "df.comment_count = df.comment_count.replace(' ','0')"
   ]
  },
  {
   "cell_type": "code",
   "execution_count": 34,
   "metadata": {},
   "outputs": [
    {
     "data": {
      "text/html": [
       "<div>\n",
       "<style scoped>\n",
       "    .dataframe tbody tr th:only-of-type {\n",
       "        vertical-align: middle;\n",
       "    }\n",
       "\n",
       "    .dataframe tbody tr th {\n",
       "        vertical-align: top;\n",
       "    }\n",
       "\n",
       "    .dataframe thead th {\n",
       "        text-align: right;\n",
       "    }\n",
       "</style>\n",
       "<table border=\"1\" class=\"dataframe\">\n",
       "  <thead>\n",
       "    <tr style=\"text-align: right;\">\n",
       "      <th></th>\n",
       "      <th>title</th>\n",
       "      <th>comment_count</th>\n",
       "    </tr>\n",
       "  </thead>\n",
       "  <tbody>\n",
       "    <tr>\n",
       "      <th>0</th>\n",
       "      <td>WE WANT TO TALK ABOUT OUR MARRIAGE</td>\n",
       "      <td>0</td>\n",
       "    </tr>\n",
       "    <tr>\n",
       "      <th>1</th>\n",
       "      <td>The Trump Presidency: Last Week Tonight with J...</td>\n",
       "      <td>116266</td>\n",
       "    </tr>\n",
       "    <tr>\n",
       "      <th>2</th>\n",
       "      <td>Racist Superman | Rudy Mancuso, King Bach &amp; Le...</td>\n",
       "      <td>257850</td>\n",
       "    </tr>\n",
       "    <tr>\n",
       "      <th>3</th>\n",
       "      <td>Nickelback Lyrics: Real or Fake?</td>\n",
       "      <td>263939</td>\n",
       "    </tr>\n",
       "    <tr>\n",
       "      <th>4</th>\n",
       "      <td>I Dare You: GOING BALD!?</td>\n",
       "      <td>268085</td>\n",
       "    </tr>\n",
       "    <tr>\n",
       "      <th>...</th>\n",
       "      <td>...</td>\n",
       "      <td>...</td>\n",
       "    </tr>\n",
       "    <tr>\n",
       "      <th>3191</th>\n",
       "      <td>My Bachelor Audition Tape // Grace Helbig</td>\n",
       "      <td>0</td>\n",
       "    </tr>\n",
       "    <tr>\n",
       "      <th>3193</th>\n",
       "      <td>FIFA 18 - FUT Champions Cup Barcelona - Day 1</td>\n",
       "      <td>0</td>\n",
       "    </tr>\n",
       "    <tr>\n",
       "      <th>3194</th>\n",
       "      <td>Jack White - Corporation (Audio)</td>\n",
       "      <td>0</td>\n",
       "    </tr>\n",
       "    <tr>\n",
       "      <th>3195</th>\n",
       "      <td>James Blake - If The Car Beside You Moves Ahea...</td>\n",
       "      <td>0</td>\n",
       "    </tr>\n",
       "    <tr>\n",
       "      <th>3196</th>\n",
       "      <td>Lucie Fink Trains Like A Professional Gymnast ...</td>\n",
       "      <td>250750</td>\n",
       "    </tr>\n",
       "  </tbody>\n",
       "</table>\n",
       "<p>2980 rows × 2 columns</p>\n",
       "</div>"
      ],
      "text/plain": [
       "                                                  title comment_count\n",
       "0                    WE WANT TO TALK ABOUT OUR MARRIAGE             0\n",
       "1     The Trump Presidency: Last Week Tonight with J...        116266\n",
       "2     Racist Superman | Rudy Mancuso, King Bach & Le...        257850\n",
       "3                      Nickelback Lyrics: Real or Fake?        263939\n",
       "4                              I Dare You: GOING BALD!?        268085\n",
       "...                                                 ...           ...\n",
       "3191          My Bachelor Audition Tape // Grace Helbig             0\n",
       "3193      FIFA 18 - FUT Champions Cup Barcelona - Day 1             0\n",
       "3194                   Jack White - Corporation (Audio)             0\n",
       "3195  James Blake - If The Car Beside You Moves Ahea...             0\n",
       "3196  Lucie Fink Trains Like A Professional Gymnast ...        250750\n",
       "\n",
       "[2980 rows x 2 columns]"
      ]
     },
     "execution_count": 34,
     "metadata": {},
     "output_type": "execute_result"
    }
   ],
   "source": [
    "df[['title','comment_count']]"
   ]
  },
  {
   "cell_type": "code",
   "execution_count": 1,
   "metadata": {},
   "outputs": [
    {
     "ename": "NameError",
     "evalue": "name 'df' is not defined",
     "output_type": "error",
     "traceback": [
      "\u001b[1;31m---------------------------------------------------------------------------\u001b[0m",
      "\u001b[1;31mNameError\u001b[0m                                 Traceback (most recent call last)",
      "\u001b[1;32m<ipython-input-1-d9ea6c72f3fb>\u001b[0m in \u001b[0;36m<module>\u001b[1;34m\u001b[0m\n\u001b[1;32m----> 1\u001b[1;33m \u001b[0mdf\u001b[0m\u001b[1;33m.\u001b[0m\u001b[0mcomment_count\u001b[0m \u001b[1;33m=\u001b[0m \u001b[0mdf\u001b[0m\u001b[1;33m.\u001b[0m\u001b[0mcomment_count\u001b[0m\u001b[1;33m.\u001b[0m\u001b[0mastype\u001b[0m\u001b[1;33m(\u001b[0m\u001b[1;34m'int64'\u001b[0m\u001b[1;33m)\u001b[0m\u001b[1;33m\u001b[0m\u001b[1;33m\u001b[0m\u001b[0m\n\u001b[0m",
      "\u001b[1;31mNameError\u001b[0m: name 'df' is not defined"
     ]
    }
   ],
   "source": [
    "df.comment_count = df.comment_count.astype('int64')"
   ]
  },
  {
   "cell_type": "code",
   "execution_count": 37,
   "metadata": {},
   "outputs": [
    {
     "name": "stdout",
     "output_type": "stream",
     "text": [
      "<class 'pandas.core.frame.DataFrame'>\n",
      "Int64Index: 2980 entries, 0 to 3196\n",
      "Data columns (total 17 columns):\n",
      " #   Column                 Non-Null Count  Dtype  \n",
      "---  ------                 --------------  -----  \n",
      " 0   Video_id               2980 non-null   object \n",
      " 1   category_id            2980 non-null   object \n",
      " 2   channel_title          2980 non-null   object \n",
      " 3   subscriber             2980 non-null   float64\n",
      " 4   title                  2980 non-null   object \n",
      " 5   tags                   2980 non-null   object \n",
      " 6   description            2980 non-null   object \n",
      " 7   Trend_day_count        2980 non-null   float64\n",
      " 8   Tag_count              2980 non-null   object \n",
      " 9   Trend_tag_count        2980 non-null   object \n",
      " 10  comment_count          2980 non-null   int64  \n",
      " 11  comment_disabled       2980 non-null   object \n",
      " 12  like dislike disabled  2980 non-null   object \n",
      " 13  likes                  2980 non-null   object \n",
      " 14  dislike                2980 non-null   object \n",
      " 15  tag appered in title   2980 non-null   object \n",
      " 16  views                  2980 non-null   int64  \n",
      "dtypes: float64(2), int64(2), object(13)\n",
      "memory usage: 419.1+ KB\n"
     ]
    }
   ],
   "source": [
    "df.info()"
   ]
  },
  {
   "cell_type": "code",
   "execution_count": 2,
   "metadata": {},
   "outputs": [
    {
     "ename": "NameError",
     "evalue": "name 'sns' is not defined",
     "output_type": "error",
     "traceback": [
      "\u001b[1;31m---------------------------------------------------------------------------\u001b[0m",
      "\u001b[1;31mNameError\u001b[0m                                 Traceback (most recent call last)",
      "\u001b[1;32m<ipython-input-2-871f1ab24217>\u001b[0m in \u001b[0;36m<module>\u001b[1;34m\u001b[0m\n\u001b[1;32m----> 1\u001b[1;33m \u001b[0msns\u001b[0m\u001b[1;33m.\u001b[0m\u001b[0mdistplot\u001b[0m\u001b[1;33m(\u001b[0m\u001b[0mdf\u001b[0m\u001b[1;33m.\u001b[0m\u001b[0mcomment_count\u001b[0m\u001b[1;33m)\u001b[0m\u001b[1;33m\u001b[0m\u001b[1;33m\u001b[0m\u001b[0m\n\u001b[0m",
      "\u001b[1;31mNameError\u001b[0m: name 'sns' is not defined"
     ]
    }
   ],
   "source": [
    "sns.distplot(df.comment_count)"
   ]
  },
  {
   "cell_type": "code",
   "execution_count": 40,
   "metadata": {},
   "outputs": [
    {
     "name": "stdout",
     "output_type": "stream",
     "text": [
      "0.3203632730506944\n",
      "-1.3278009201999141\n"
     ]
    }
   ],
   "source": [
    "from scipy.stats import skew\n",
    "from scipy.stats import kurtosis\n",
    "print(skew(df.comment_count))\n",
    "print(kurtosis(df.comment_count))"
   ]
  },
  {
   "cell_type": "code",
   "execution_count": 3,
   "metadata": {},
   "outputs": [
    {
     "ename": "NameError",
     "evalue": "name 'sns' is not defined",
     "output_type": "error",
     "traceback": [
      "\u001b[1;31m---------------------------------------------------------------------------\u001b[0m",
      "\u001b[1;31mNameError\u001b[0m                                 Traceback (most recent call last)",
      "\u001b[1;32m<ipython-input-3-8b7d81beed08>\u001b[0m in \u001b[0;36m<module>\u001b[1;34m\u001b[0m\n\u001b[1;32m----> 1\u001b[1;33m \u001b[0msns\u001b[0m\u001b[1;33m.\u001b[0m\u001b[0mboxplot\u001b[0m\u001b[1;33m(\u001b[0m\u001b[0mdf\u001b[0m\u001b[1;33m.\u001b[0m\u001b[0mcomment_count\u001b[0m\u001b[1;33m)\u001b[0m\u001b[1;33m\u001b[0m\u001b[1;33m\u001b[0m\u001b[0m\n\u001b[0m",
      "\u001b[1;31mNameError\u001b[0m: name 'sns' is not defined"
     ]
    }
   ],
   "source": [
    "sns.boxplot(df.comment_count)"
   ]
  },
  {
   "cell_type": "code",
   "execution_count": 42,
   "metadata": {},
   "outputs": [
    {
     "data": {
      "text/plain": [
       "0       13342\n",
       "1        5761\n",
       "2           0\n",
       "3           0\n",
       "4           0\n",
       "        ...  \n",
       "3191    10254\n",
       "3193     9734\n",
       "3194    16006\n",
       "3195        0\n",
       "3196     6859\n",
       "Name: likes, Length: 2980, dtype: object"
      ]
     },
     "execution_count": 42,
     "metadata": {},
     "output_type": "execute_result"
    }
   ],
   "source": [
    "df.likes"
   ]
  },
  {
   "cell_type": "code",
   "execution_count": 45,
   "metadata": {},
   "outputs": [],
   "source": [
    "df.likes= df.likes.astype('str')\n",
    "df.likes  = df.likes.replace(' ','0')\n",
    "df.likes = df.likes.astype('int64')"
   ]
  },
  {
   "cell_type": "code",
   "execution_count": 4,
   "metadata": {},
   "outputs": [
    {
     "ename": "NameError",
     "evalue": "name 'sns' is not defined",
     "output_type": "error",
     "traceback": [
      "\u001b[1;31m---------------------------------------------------------------------------\u001b[0m",
      "\u001b[1;31mNameError\u001b[0m                                 Traceback (most recent call last)",
      "\u001b[1;32m<ipython-input-4-8a841c7c3a36>\u001b[0m in \u001b[0;36m<module>\u001b[1;34m\u001b[0m\n\u001b[1;32m----> 1\u001b[1;33m \u001b[0msns\u001b[0m\u001b[1;33m.\u001b[0m\u001b[0mdistplot\u001b[0m\u001b[1;33m(\u001b[0m\u001b[0mdf\u001b[0m\u001b[1;33m.\u001b[0m\u001b[0mlikes\u001b[0m\u001b[1;33m)\u001b[0m\u001b[1;33m\u001b[0m\u001b[1;33m\u001b[0m\u001b[0m\n\u001b[0m",
      "\u001b[1;31mNameError\u001b[0m: name 'sns' is not defined"
     ]
    }
   ],
   "source": [
    "sns.distplot(df.likes)"
   ]
  },
  {
   "cell_type": "code",
   "execution_count": 47,
   "metadata": {},
   "outputs": [
    {
     "data": {
      "text/plain": [
       "0       13342\n",
       "1        5761\n",
       "2           0\n",
       "3           0\n",
       "4           0\n",
       "        ...  \n",
       "3191    10254\n",
       "3193     9734\n",
       "3194    16006\n",
       "3195        0\n",
       "3196     6859\n",
       "Name: likes, Length: 2980, dtype: int64"
      ]
     },
     "execution_count": 47,
     "metadata": {},
     "output_type": "execute_result"
    }
   ],
   "source": [
    "df.likes"
   ]
  },
  {
   "cell_type": "code",
   "execution_count": 55,
   "metadata": {},
   "outputs": [
    {
     "name": "stdout",
     "output_type": "stream",
     "text": [
      "47.30462774996555\n",
      "2459.402286539155\n"
     ]
    }
   ],
   "source": [
    "print(skew(df.likes))\n",
    "print(kurtosis(df.likes))"
   ]
  },
  {
   "cell_type": "code",
   "execution_count": 56,
   "metadata": {},
   "outputs": [
    {
     "data": {
      "text/plain": [
       "<AxesSubplot:>"
      ]
     },
     "execution_count": 56,
     "metadata": {},
     "output_type": "execute_result"
    },
    {
     "data": {
      "image/png": "[encoded data removed]",
      "text/plain": [
       "<Figure size 432x288 with 1 Axes>"
      ]
     },
     "metadata": {
      "needs_background": "light"
     },
     "output_type": "display_data"
    }
   ],
   "source": [
    "df.likes.hist()"
   ]
  },
  {
   "cell_type": "code",
   "execution_count": 5,
   "metadata": {},
   "outputs": [
    {
     "ename": "NameError",
     "evalue": "name 'sns' is not defined",
     "output_type": "error",
     "traceback": [
      "\u001b[1;31m---------------------------------------------------------------------------\u001b[0m",
      "\u001b[1;31mNameError\u001b[0m                                 Traceback (most recent call last)",
      "\u001b[1;32m<ipython-input-5-08b1bd166ca6>\u001b[0m in \u001b[0;36m<module>\u001b[1;34m\u001b[0m\n\u001b[1;32m----> 1\u001b[1;33m \u001b[0msns\u001b[0m\u001b[1;33m.\u001b[0m\u001b[0mdistplot\u001b[0m\u001b[1;33m(\u001b[0m\u001b[0mdf\u001b[0m\u001b[1;33m.\u001b[0m\u001b[0mviews\u001b[0m\u001b[1;33m)\u001b[0m\u001b[1;33m\u001b[0m\u001b[1;33m\u001b[0m\u001b[0m\n\u001b[0m",
      "\u001b[1;31mNameError\u001b[0m: name 'sns' is not defined"
     ]
    }
   ],
   "source": [
    "sns.distplot(df.views)"
   ]
  },
  {
   "cell_type": "code",
   "execution_count": 59,
   "metadata": {},
   "outputs": [
    {
     "name": "stdout",
     "output_type": "stream",
     "text": [
      "41.129955868031686\n",
      "1770.135291433191\n"
     ]
    }
   ],
   "source": [
    "print(skew(df.views))\n",
    "print(kurtosis(df.views))"
   ]
  },
  {
   "cell_type": "code",
   "execution_count": 72,
   "metadata": {},
   "outputs": [
    {
     "data": {
      "text/plain": [
       "<AxesSubplot:xlabel='comment_count', ylabel='views'>"
      ]
     },
     "execution_count": 72,
     "metadata": {},
     "output_type": "execute_result"
    },
    {
     "data": {
      "image/png": "[encoded data removed]",
      "text/plain": [
       "<Figure size 432x288 with 1 Axes>"
      ]
     },
     "metadata": {
      "needs_background": "light"
     },
     "output_type": "display_data"
    }
   ],
   "source": [
    "sns.lineplot(y = df.views ,x=df.comment_count)"
   ]
  },
  {
   "cell_type": "markdown",
   "metadata": {},
   "source": [
    " ABOVE GRAPH SIGNIFIES THE VIDEO WHICH IS HAVING MAX NUMBER OF COMMENT AND VIEWS IS THE MOST TRENDING ONE"
   ]
  },
  {
   "cell_type": "code",
   "execution_count": 61,
   "metadata": {},
   "outputs": [
    {
     "data": {
      "text/plain": [
       "Video_id                 0\n",
       "category_id              0\n",
       "channel_title            0\n",
       "subscriber               0\n",
       "title                    0\n",
       "tags                     0\n",
       "description              0\n",
       "Trend_day_count          0\n",
       "Tag_count                0\n",
       "Trend_tag_count          0\n",
       "comment_count            0\n",
       "comment_disabled         0\n",
       "like dislike disabled    0\n",
       "likes                    0\n",
       "dislike                  0\n",
       "tag appered in title     0\n",
       "views                    0\n",
       "dtype: int64"
      ]
     },
     "execution_count": 61,
     "metadata": {},
     "output_type": "execute_result"
    }
   ],
   "source": [
    "df.isnull().sum()"
   ]
  },
  {
   "cell_type": "code",
   "execution_count": 73,
   "metadata": {},
   "outputs": [
    {
     "data": {
      "text/plain": [
       "<AxesSubplot:>"
      ]
     },
     "execution_count": 73,
     "metadata": {},
     "output_type": "execute_result"
    },
    {
     "data": {
      "image/png": "[encoded data removed]",
      "text/plain": [
       "<Figure size 432x288 with 1 Axes>"
      ]
     },
     "metadata": {
      "needs_background": "light"
     },
     "output_type": "display_data"
    }
   ],
   "source": [
    "df.comment_count.hist()"
   ]
  },
  {
   "cell_type": "markdown",
   "metadata": {},
   "source": [
    "AS THE COMMENT_COUNT IS HIGHEST BETWEEN 0 AND LESS THAN 50000 SO THE VIDEO HAVING THE COMMENT IN THIS RANGE CAN BE THE TRENDING VIDEO"
   ]
  }
 ],
 "metadata": {
  "kernelspec": {
   "display_name": "Python 3",
   "language": "python",
   "name": "python3"
  },
  "language_info": {
   "codemirror_mode": {
    "name": "ipython",
    "version": 3
   },
   "file_extension": ".py",
   "mimetype": "text/x-python",
   "name": "python",
   "nbconvert_exporter": "python",
   "pygments_lexer": "ipython3",
   "version": "3.8.5"
  }
 },
 "nbformat": 4,
 "nbformat_minor": 4
}
